{
 "cells": [
  {
   "cell_type": "code",
   "id": "initial_id",
   "metadata": {
    "collapsed": true,
    "ExecuteTime": {
     "end_time": "2025-01-11T13:36:53.046766Z",
     "start_time": "2025-01-11T13:36:53.042746Z"
    }
   },
   "source": [
    "import pandas as pd\n",
    "import numpy as np\n",
    "from sklearn.preprocessing import LabelEncoder\n",
    "from sklearn.neighbors import KNeighborsClassifier\n",
    "from sklearn.model_selection import train_test_split\n"
   ],
   "outputs": [],
   "execution_count": 72
  },
  {
   "metadata": {
    "ExecuteTime": {
     "end_time": "2025-01-11T13:28:57.078145Z",
     "start_time": "2025-01-11T13:28:56.971373Z"
    }
   },
   "cell_type": "code",
   "source": "df=pd.read_csv('sales.csv')",
   "id": "3c5549a0d20f31ca",
   "outputs": [],
   "execution_count": 54
  },
  {
   "metadata": {
    "ExecuteTime": {
     "end_time": "2025-01-11T13:28:57.119961Z",
     "start_time": "2025-01-11T13:28:57.082151Z"
    }
   },
   "cell_type": "code",
   "source": "df.sample(5)",
   "id": "9059f4acacc8aadf",
   "outputs": [
    {
     "data": {
      "text/plain": [
       "      Row ID        Order ID Order Date Fa Ship Date Fa       Ship Mode  \\\n",
       "5236    5237  US-2021-121671    1401/08/15   1401/08/20  Standard Class   \n",
       "4361    4362  US-2021-143819    1401/03/31   1401/04/04  Standard Class   \n",
       "6462    6463  US-2021-104689    1402/01/03   1402/01/07  Standard Class   \n",
       "9673    9674  US-2022-132185    1402/12/28   1403/01/04  Standard Class   \n",
       "1657    1658  US-2019-102274    1399/12/22   1399/12/27  Standard Class   \n",
       "\n",
       "     Customer ID  Customer Name    Segment Country/Region         City  ...  \\\n",
       "5236    AA-10480   Andrew Allen   Consumer  United States  Springfield  ...   \n",
       "4361    KD-16270  Karen Daniels   Consumer  United States      Yonkers  ...   \n",
       "6462    FH-14365   Fred Hopkins  Corporate  United States  Los Angeles  ...   \n",
       "9673    DB-13615  Doug Bickford   Consumer  United States    Asheville  ...   \n",
       "1657    DH-13075  Dave Hallsten  Corporate  United States     Richmond  ...   \n",
       "\n",
       "     Postal Code   Region       Product ID         Category Sub-Category  \\\n",
       "5236       65807  Central  OFF-ST-10002344  Office Supplies      Storage   \n",
       "4361       10701     East  OFF-ST-10003208  Office Supplies      Storage   \n",
       "6462       90004     West  OFF-AR-10001149  Office Supplies          Art   \n",
       "9673       28806    South  OFF-AR-10000422  Office Supplies          Art   \n",
       "1657       40475    South  TEC-PH-10002923       Technology       Phones   \n",
       "\n",
       "                                           Product Name   Sales  Quantity  \\\n",
       "5236            Carina 42\"Hx23 3/4\"W Media Storage Unit  242.94         3   \n",
       "4361                 Adjustable Depth Letter/Legal Cart  362.92         2   \n",
       "6462          Sanford Colorific Colored Pencils, 12/Box   23.04         8   \n",
       "9673                        Pencil and Crayon Sharpener    8.76         5   \n",
       "1657  Logitech B530 USB Headset - headset - Full siz...   36.99         1   \n",
       "\n",
       "      Discount    Profit  \n",
       "5236       0.0    4.8588  \n",
       "4361       0.0  105.2468  \n",
       "6462       0.0    6.9120  \n",
       "9673       0.2    0.7665  \n",
       "1657       0.0    9.9873  \n",
       "\n",
       "[5 rows x 21 columns]"
      ],
      "text/html": [
       "<div>\n",
       "<style scoped>\n",
       "    .dataframe tbody tr th:only-of-type {\n",
       "        vertical-align: middle;\n",
       "    }\n",
       "\n",
       "    .dataframe tbody tr th {\n",
       "        vertical-align: top;\n",
       "    }\n",
       "\n",
       "    .dataframe thead th {\n",
       "        text-align: right;\n",
       "    }\n",
       "</style>\n",
       "<table border=\"1\" class=\"dataframe\">\n",
       "  <thead>\n",
       "    <tr style=\"text-align: right;\">\n",
       "      <th></th>\n",
       "      <th>Row ID</th>\n",
       "      <th>Order ID</th>\n",
       "      <th>Order Date Fa</th>\n",
       "      <th>Ship Date Fa</th>\n",
       "      <th>Ship Mode</th>\n",
       "      <th>Customer ID</th>\n",
       "      <th>Customer Name</th>\n",
       "      <th>Segment</th>\n",
       "      <th>Country/Region</th>\n",
       "      <th>City</th>\n",
       "      <th>...</th>\n",
       "      <th>Postal Code</th>\n",
       "      <th>Region</th>\n",
       "      <th>Product ID</th>\n",
       "      <th>Category</th>\n",
       "      <th>Sub-Category</th>\n",
       "      <th>Product Name</th>\n",
       "      <th>Sales</th>\n",
       "      <th>Quantity</th>\n",
       "      <th>Discount</th>\n",
       "      <th>Profit</th>\n",
       "    </tr>\n",
       "  </thead>\n",
       "  <tbody>\n",
       "    <tr>\n",
       "      <th>5236</th>\n",
       "      <td>5237</td>\n",
       "      <td>US-2021-121671</td>\n",
       "      <td>1401/08/15</td>\n",
       "      <td>1401/08/20</td>\n",
       "      <td>Standard Class</td>\n",
       "      <td>AA-10480</td>\n",
       "      <td>Andrew Allen</td>\n",
       "      <td>Consumer</td>\n",
       "      <td>United States</td>\n",
       "      <td>Springfield</td>\n",
       "      <td>...</td>\n",
       "      <td>65807</td>\n",
       "      <td>Central</td>\n",
       "      <td>OFF-ST-10002344</td>\n",
       "      <td>Office Supplies</td>\n",
       "      <td>Storage</td>\n",
       "      <td>Carina 42\"Hx23 3/4\"W Media Storage Unit</td>\n",
       "      <td>242.94</td>\n",
       "      <td>3</td>\n",
       "      <td>0.0</td>\n",
       "      <td>4.8588</td>\n",
       "    </tr>\n",
       "    <tr>\n",
       "      <th>4361</th>\n",
       "      <td>4362</td>\n",
       "      <td>US-2021-143819</td>\n",
       "      <td>1401/03/31</td>\n",
       "      <td>1401/04/04</td>\n",
       "      <td>Standard Class</td>\n",
       "      <td>KD-16270</td>\n",
       "      <td>Karen Daniels</td>\n",
       "      <td>Consumer</td>\n",
       "      <td>United States</td>\n",
       "      <td>Yonkers</td>\n",
       "      <td>...</td>\n",
       "      <td>10701</td>\n",
       "      <td>East</td>\n",
       "      <td>OFF-ST-10003208</td>\n",
       "      <td>Office Supplies</td>\n",
       "      <td>Storage</td>\n",
       "      <td>Adjustable Depth Letter/Legal Cart</td>\n",
       "      <td>362.92</td>\n",
       "      <td>2</td>\n",
       "      <td>0.0</td>\n",
       "      <td>105.2468</td>\n",
       "    </tr>\n",
       "    <tr>\n",
       "      <th>6462</th>\n",
       "      <td>6463</td>\n",
       "      <td>US-2021-104689</td>\n",
       "      <td>1402/01/03</td>\n",
       "      <td>1402/01/07</td>\n",
       "      <td>Standard Class</td>\n",
       "      <td>FH-14365</td>\n",
       "      <td>Fred Hopkins</td>\n",
       "      <td>Corporate</td>\n",
       "      <td>United States</td>\n",
       "      <td>Los Angeles</td>\n",
       "      <td>...</td>\n",
       "      <td>90004</td>\n",
       "      <td>West</td>\n",
       "      <td>OFF-AR-10001149</td>\n",
       "      <td>Office Supplies</td>\n",
       "      <td>Art</td>\n",
       "      <td>Sanford Colorific Colored Pencils, 12/Box</td>\n",
       "      <td>23.04</td>\n",
       "      <td>8</td>\n",
       "      <td>0.0</td>\n",
       "      <td>6.9120</td>\n",
       "    </tr>\n",
       "    <tr>\n",
       "      <th>9673</th>\n",
       "      <td>9674</td>\n",
       "      <td>US-2022-132185</td>\n",
       "      <td>1402/12/28</td>\n",
       "      <td>1403/01/04</td>\n",
       "      <td>Standard Class</td>\n",
       "      <td>DB-13615</td>\n",
       "      <td>Doug Bickford</td>\n",
       "      <td>Consumer</td>\n",
       "      <td>United States</td>\n",
       "      <td>Asheville</td>\n",
       "      <td>...</td>\n",
       "      <td>28806</td>\n",
       "      <td>South</td>\n",
       "      <td>OFF-AR-10000422</td>\n",
       "      <td>Office Supplies</td>\n",
       "      <td>Art</td>\n",
       "      <td>Pencil and Crayon Sharpener</td>\n",
       "      <td>8.76</td>\n",
       "      <td>5</td>\n",
       "      <td>0.2</td>\n",
       "      <td>0.7665</td>\n",
       "    </tr>\n",
       "    <tr>\n",
       "      <th>1657</th>\n",
       "      <td>1658</td>\n",
       "      <td>US-2019-102274</td>\n",
       "      <td>1399/12/22</td>\n",
       "      <td>1399/12/27</td>\n",
       "      <td>Standard Class</td>\n",
       "      <td>DH-13075</td>\n",
       "      <td>Dave Hallsten</td>\n",
       "      <td>Corporate</td>\n",
       "      <td>United States</td>\n",
       "      <td>Richmond</td>\n",
       "      <td>...</td>\n",
       "      <td>40475</td>\n",
       "      <td>South</td>\n",
       "      <td>TEC-PH-10002923</td>\n",
       "      <td>Technology</td>\n",
       "      <td>Phones</td>\n",
       "      <td>Logitech B530 USB Headset - headset - Full siz...</td>\n",
       "      <td>36.99</td>\n",
       "      <td>1</td>\n",
       "      <td>0.0</td>\n",
       "      <td>9.9873</td>\n",
       "    </tr>\n",
       "  </tbody>\n",
       "</table>\n",
       "<p>5 rows × 21 columns</p>\n",
       "</div>"
      ]
     },
     "execution_count": 55,
     "metadata": {},
     "output_type": "execute_result"
    }
   ],
   "execution_count": 55
  },
  {
   "metadata": {
    "ExecuteTime": {
     "end_time": "2025-01-11T13:28:57.169707Z",
     "start_time": "2025-01-11T13:28:57.121984Z"
    }
   },
   "cell_type": "code",
   "source": "df.duplicated().sum()",
   "id": "2bef8a167e53015d",
   "outputs": [
    {
     "data": {
      "text/plain": [
       "0"
      ]
     },
     "execution_count": 56,
     "metadata": {},
     "output_type": "execute_result"
    }
   ],
   "execution_count": 56
  },
  {
   "metadata": {
    "ExecuteTime": {
     "end_time": "2025-01-11T13:28:57.214302Z",
     "start_time": "2025-01-11T13:28:57.175812Z"
    }
   },
   "cell_type": "code",
   "source": [
    "df1 = df.sort_values(by='Order ID', ascending=True)[['Order ID', 'Customer ID', 'Product ID', 'Product Name', 'Category']]\n",
    "df_order_count = df1['Order ID'].value_counts()  \n",
    "\n",
    "# Filter Order IDs that appear at least 3 times  \n",
    "order_ids_to_keep = df_order_count[df_order_count >= 3].index  \n",
    "\n",
    "# Filter the DataFrame to only include these Order IDs  \n",
    "filtered_df1 = df1[df1['Order ID'].isin(order_ids_to_keep)] "
   ],
   "id": "83de1b6af55f21dd",
   "outputs": [],
   "execution_count": 57
  },
  {
   "metadata": {
    "ExecuteTime": {
     "end_time": "2025-01-11T14:12:35.188440Z",
     "start_time": "2025-01-11T14:12:34.694913Z"
    }
   },
   "cell_type": "code",
   "source": [
    "# Get unique products  \n",
    "df_product = filtered_df1[['Product ID', 'Product Name', 'Category']].drop_duplicates('Product ID').reset_index(drop=True)  \n",
    "\n",
    "# Encode data  \n",
    "cols = ['Order ID', 'Product ID']  \n",
    "df_encode = filtered_df1[cols].copy()  \n",
    "\n",
    "# Create a LabelEncoder instance  \n",
    "encoder = LabelEncoder()  \n",
    "\n",
    "# Fit the encoder on the unique product IDs found in the filtered DataFrame  \n",
    "df_product['Product code'] = encoder.fit_transform(df_product['Product ID'])\n",
    "df_product['Category code'] = encoder.fit_transform(df_product['Category'])\n",
    "df_encode = pd.merge(df_encode, df_product, on='Product ID', how='inner')\n",
    "# Create a list of orders  \n",
    "orders = df_encode.groupby('Order ID')['Product code'].apply(list).reset_index()  \n",
    "\n",
    "X = []\n",
    "y = []\n",
    "for index, row in orders.iterrows():\n",
    "    pl = row['Product code']\n",
    "    for i in range(len(pl)):\n",
    "        for j in range(len(pl)):\n",
    "            if j > i:\n",
    "                for k in range(len(pl)):\n",
    "                    if k != i and k != j:\n",
    "                        y.append(pl[k]) \n",
    "                        X.append([pl[i], pl[j]])\n",
    "\n",
    "X = np.array(X)\n",
    "y = np.array(y)\n",
    "\n",
    "X_train, X_test, y_train, y_test = train_test_split(X, y, random_state=0)\n",
    "model = KNeighborsClassifier(n_neighbors=5, weights='distance')\n",
    "model.fit(X_train, y_train)\n",
    "print(model.score(X_test, y_test))"
   ],
   "id": "f534058e38d943d8",
   "outputs": [
    {
     "name": "stdout",
     "output_type": "stream",
     "text": [
      "0.004190321708569884\n"
     ]
    }
   ],
   "execution_count": 168
  },
  {
   "metadata": {
    "ExecuteTime": {
     "end_time": "2025-01-11T14:12:57.925169Z",
     "start_time": "2025-01-11T14:12:57.902693Z"
    }
   },
   "cell_type": "code",
   "source": [
    "def find_product(p_code):\n",
    "    prod = df_product.query(f'`Product code` == {p_code}')\n",
    "    return prod['Product ID'].values[0], prod['Product Name'].values[0], prod['Category'].values[0]\n",
    "\n",
    "def recommendation(x1, x2):\n",
    "    x = np.array([x1, x2]).reshape(1,-1)\n",
    "    y = model.predict(x)\n",
    "    return y\n",
    "\n",
    "x1, x2 = X[np.random.choice(len(X_test), 1)][0]  #np.random.choice(y, 2)\n",
    "y_pred = recommendation(x1, x2)\n",
    "print(f'First product:       {find_product(x1)}')\n",
    "print(f'Second product:      {find_product(x2)}')\n",
    "print(f'Recommended product: {find_product(y_pred)}')\n",
    "print(f'Product code prediction: {y_pred}')\n",
    "print(f'Product codes refers:    {y[np.where((X[:,0] == x1) & (X[:,1] == x2))]}')\n"
   ],
   "id": "ef9977a981596a04",
   "outputs": [
    {
     "name": "stdout",
     "output_type": "stream",
     "text": [
      "First product:       ('OFF-BI-10000050', 'Angle-D Binders with Locking Rings, Label Holders', 'Office Supplies')\n",
      "Second product:      ('TEC-AC-10002718', 'Belkin Standard 104 key USB Keyboard', 'Technology')\n",
      "Recommended product: ('OFF-AR-10003179', 'Dixon Ticonderoga Core-Lock Colored Pencils', 'Office Supplies')\n",
      "Product code prediction: [526]\n",
      "Product codes refers:    [ 338 1559  526]\n"
     ]
    }
   ],
   "execution_count": 169
  },
  {
   "metadata": {},
   "cell_type": "code",
   "outputs": [],
   "execution_count": null,
   "source": "",
   "id": "87d680afaa3df1dc"
  }
 ],
 "metadata": {
  "kernelspec": {
   "display_name": "Python 3",
   "language": "python",
   "name": "python3"
  },
  "language_info": {
   "codemirror_mode": {
    "name": "ipython",
    "version": 2
   },
   "file_extension": ".py",
   "mimetype": "text/x-python",
   "name": "python",
   "nbconvert_exporter": "python",
   "pygments_lexer": "ipython2",
   "version": "2.7.6"
  }
 },
 "nbformat": 4,
 "nbformat_minor": 5
}
